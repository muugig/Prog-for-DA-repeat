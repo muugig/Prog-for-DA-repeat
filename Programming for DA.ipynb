{
 "cells": [
  {
   "cell_type": "code",
   "execution_count": 1,
   "id": "62d85bc2",
   "metadata": {},
   "outputs": [
    {
     "name": "stdout",
     "output_type": "stream",
     "text": [
      "THA21 Dataset\n",
      "  STATISTIC                Statistic Label  TLIST(W1)  Year  C03910V04662  \\\n",
      "0  THA21C01  Average weekly volume of cars       2019  2019            10   \n",
      "1  THA21C01  Average weekly volume of cars       2019  2019            10   \n",
      "2  THA21C01  Average weekly volume of cars       2019  2019            10   \n",
      "3  THA21C01  Average weekly volume of cars       2019  2019            10   \n",
      "4  THA21C01  Average weekly volume of cars       2019  2019            10   \n",
      "\n",
      "            Transport Traffic Site  C01198V01436 Weeks of the year    UNIT  \\\n",
      "0  Selected traffic sites - Dublin             1           Week 01  Number   \n",
      "1  Selected traffic sites - Dublin             2           Week 02  Number   \n",
      "2  Selected traffic sites - Dublin             3           Week 03  Number   \n",
      "3  Selected traffic sites - Dublin             4           Week 04  Number   \n",
      "4  Selected traffic sites - Dublin             5           Week 05  Number   \n",
      "\n",
      "      VALUE  \n",
      "0  463064.0  \n",
      "1  534609.0  \n",
      "2  549470.0  \n",
      "3  550892.0  \n",
      "4  543468.0  \n",
      "\n",
      "THA22 Dataset\n",
      "  STATISTIC                                Statistic Label  TLIST(W1)  Year  \\\n",
      "0  THA22C01  Average weekly volume of heavy goods vehicles       2019  2019   \n",
      "1  THA22C01  Average weekly volume of heavy goods vehicles       2019  2019   \n",
      "2  THA22C01  Average weekly volume of heavy goods vehicles       2019  2019   \n",
      "3  THA22C01  Average weekly volume of heavy goods vehicles       2019  2019   \n",
      "4  THA22C01  Average weekly volume of heavy goods vehicles       2019  2019   \n",
      "\n",
      "   C03910V04662           Transport Traffic Site  C01198V01436  \\\n",
      "0            10  Selected traffic sites - Dublin             1   \n",
      "1            10  Selected traffic sites - Dublin             2   \n",
      "2            10  Selected traffic sites - Dublin             3   \n",
      "3            10  Selected traffic sites - Dublin             4   \n",
      "4            10  Selected traffic sites - Dublin             5   \n",
      "\n",
      "  Weeks of the year    UNIT    VALUE  \n",
      "0           Week 01  Number  23838.0  \n",
      "1           Week 02  Number  38353.0  \n",
      "2           Week 03  Number  39973.0  \n",
      "3           Week 04  Number  40314.0  \n",
      "4           Week 05  Number  40709.0  \n"
     ]
    }
   ],
   "source": [
    "#Importing necessary libraries\n",
    "import os\n",
    "os.chdir('C:\\\\Users\\\\LENOVO\\\\Downloads')\n",
    "import pandas as pd\n",
    "import numpy as np\n",
    "import matplotlib.pyplot as plt\n",
    "import seaborn as sns\n",
    "#Setting up display options\n",
    "pd.set_option('display.max_columns', None)\n",
    "pd.set_option('display.max_rows', 100)\n",
    "#Setting up matplotlib for inline display in Jupyter Notebook\n",
    "%matplotlib inline\n",
    "#Setting up seaborn for better visualizations\n",
    "sns.set(style=\"whitegrid\")\n",
    "#Loading the datasets\n",
    "tha21_df = pd.read_csv('THA21.20231220172612.csv')\n",
    "tha22_df = pd.read_csv('THA22.20231220194943.csv')\n",
    "#Displaying the first few rows of each dataset\n",
    "print(\"THA21 Dataset\")\n",
    "print(tha21_df.head())\n",
    "print(\"\\nTHA22 Dataset\")\n",
    "print(tha22_df.head())"
   ]
  }
 ],
 "metadata": {
  "kernelspec": {
   "display_name": "Python 3 (ipykernel)",
   "language": "python",
   "name": "python3"
  },
  "language_info": {
   "codemirror_mode": {
    "name": "ipython",
    "version": 3
   },
   "file_extension": ".py",
   "mimetype": "text/x-python",
   "name": "python",
   "nbconvert_exporter": "python",
   "pygments_lexer": "ipython3",
   "version": "3.9.7"
  }
 },
 "nbformat": 4,
 "nbformat_minor": 5
}
